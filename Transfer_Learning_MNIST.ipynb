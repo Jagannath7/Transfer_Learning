{
 "cells": [
  {
   "cell_type": "code",
   "execution_count": 1,
   "metadata": {},
   "outputs": [],
   "source": [
    "import numpy as np\n",
    "import pandas as pd\n",
    "import matplotlib.pyplot as plt"
   ]
  },
  {
   "cell_type": "code",
   "execution_count": 7,
   "metadata": {},
   "outputs": [],
   "source": [
    "from keras.utils import np_utils"
   ]
  },
  {
   "cell_type": "code",
   "execution_count": 3,
   "metadata": {},
   "outputs": [],
   "source": [
    "from keras.datasets import mnist"
   ]
  },
  {
   "cell_type": "code",
   "execution_count": 4,
   "metadata": {},
   "outputs": [],
   "source": [
    "(x_train,y_train),(x_test,y_test) = mnist.load_data()"
   ]
  },
  {
   "cell_type": "code",
   "execution_count": 5,
   "metadata": {},
   "outputs": [
    {
     "name": "stdout",
     "output_type": "stream",
     "text": [
      "(60000, 28, 28) (10000, 28, 28)\n",
      "(60000,) (10000,)\n"
     ]
    }
   ],
   "source": [
    "print(x_train.shape,x_test.shape)\n",
    "print(y_train.shape,y_test.shape)"
   ]
  },
  {
   "cell_type": "code",
   "execution_count": null,
   "metadata": {},
   "outputs": [],
   "source": []
  },
  {
   "cell_type": "code",
   "execution_count": 6,
   "metadata": {},
   "outputs": [],
   "source": [
    "pt_x_train = []\n",
    "pt_y_train = []\n",
    "pt_x_test = []\n",
    "pt_y_test = []\n",
    "\n",
    "tl_x_train = []\n",
    "tl_y_train = []\n",
    "tl_x_test = []\n",
    "tl_y_test = []\n",
    "\n",
    "m =20000\n",
    "for i in range(m):\n",
    "    if y_train[i] < 5:\n",
    "        pt_x_train.append(x_train[i]/255)\n",
    "        pt_y_train.append(y_train[i])\n",
    "    else:\n",
    "        tl_x_train.append(x_train[i]/255)\n",
    "        tl_y_train.append(y_train[i])\n",
    "        \n",
    "m = 10000\n",
    "for i in range(m):\n",
    "    if y_test[i] < 5:\n",
    "        pt_x_test.append(x_test[i]/255)\n",
    "        pt_y_test.append(y_test[i])\n",
    "    else:\n",
    "        tl_x_test.append(x_test[i]/255)\n",
    "        tl_y_test.append(y_test[i])\n",
    "        \n",
    "        \n",
    "        "
   ]
  },
  {
   "cell_type": "code",
   "execution_count": null,
   "metadata": {},
   "outputs": [],
   "source": []
  },
  {
   "cell_type": "code",
   "execution_count": 8,
   "metadata": {},
   "outputs": [],
   "source": [
    "pt_x_train = np.asarray(pt_x_train).reshape(-1,28,28,1)\n",
    "pt_x_test = np.asarray(pt_x_test).reshape(-1,28,28,1)\n",
    "pt_y_train = np_utils.to_categorical(np.asarray(pt_y_train))\n",
    "pt_y_test = np_utils.to_categorical(np.asarray(pt_y_test))\n",
    "\n",
    "\n",
    "tl_x_train = np.asarray(tl_x_train).reshape(-1,28,28,1)\n",
    "tl_x_test = np.asarray(tl_x_test).reshape(-1,28,28,1)\n",
    "tl_y_train = np_utils.to_categorical(np.asarray(tl_y_train))\n",
    "tl_y_test = np_utils.to_categorical(np.asarray(tl_y_test))"
   ]
  },
  {
   "cell_type": "code",
   "execution_count": 25,
   "metadata": {},
   "outputs": [
    {
     "name": "stdout",
     "output_type": "stream",
     "text": [
      "(5139, 5)\n"
     ]
    }
   ],
   "source": [
    "print(pt_y_test.shape)"
   ]
  },
  {
   "cell_type": "code",
   "execution_count": 9,
   "metadata": {},
   "outputs": [],
   "source": [
    "from keras.layers import Dense,Activation,Flatten,Conv2D,MaxPool2D,Dropout\n",
    "from keras.models import Sequential"
   ]
  },
  {
   "cell_type": "code",
   "execution_count": null,
   "metadata": {},
   "outputs": [],
   "source": []
  },
  {
   "cell_type": "code",
   "execution_count": 11,
   "metadata": {},
   "outputs": [
    {
     "name": "stdout",
     "output_type": "stream",
     "text": [
      "WARNING:tensorflow:From C:\\Users\\SR\\anaconda3\\lib\\site-packages\\keras\\backend\\tensorflow_backend.py:4070: The name tf.nn.max_pool is deprecated. Please use tf.nn.max_pool2d instead.\n",
      "\n",
      "Model: \"sequential_2\"\n",
      "_________________________________________________________________\n",
      "Layer (type)                 Output Shape              Param #   \n",
      "=================================================================\n",
      "conv2d_3 (Conv2D)            (None, 24, 24, 32)        832       \n",
      "_________________________________________________________________\n",
      "conv2d_4 (Conv2D)            (None, 20, 20, 16)        12816     \n",
      "_________________________________________________________________\n",
      "max_pooling2d_1 (MaxPooling2 (None, 10, 10, 16)        0         \n",
      "_________________________________________________________________\n",
      "conv2d_5 (Conv2D)            (None, 8, 8, 8)           1160      \n",
      "_________________________________________________________________\n",
      "flatten_1 (Flatten)          (None, 512)               0         \n",
      "_________________________________________________________________\n",
      "dropout_1 (Dropout)          (None, 512)               0         \n",
      "_________________________________________________________________\n",
      "dense_1 (Dense)              (None, 128)               65664     \n",
      "_________________________________________________________________\n",
      "activation_1 (Activation)    (None, 128)               0         \n",
      "_________________________________________________________________\n",
      "dense_2 (Dense)              (None, 5)                 645       \n",
      "_________________________________________________________________\n",
      "activation_2 (Activation)    (None, 5)                 0         \n",
      "=================================================================\n",
      "Total params: 81,117\n",
      "Trainable params: 81,117\n",
      "Non-trainable params: 0\n",
      "_________________________________________________________________\n"
     ]
    }
   ],
   "source": [
    "model = Sequential()\n",
    "\n",
    "model.add(Conv2D(32,5,input_shape =(28,28,1),activation = 'relu'))\n",
    "\n",
    "model.add(Conv2D(16,5,activation = 'relu'))\n",
    "model.add(MaxPool2D(pool_size=(2,2)))\n",
    "\n",
    "model.add(Conv2D(8,3,activation = 'relu'))\n",
    "\n",
    "model.add(Flatten())\n",
    "\n",
    "model.add(Dropout(0.4))\n",
    "\n",
    "model.add(Dense(128))\n",
    "model.add(Activation('relu'))\n",
    "\n",
    "model.add(Dense(5))\n",
    "model.add(Activation('softmax'))\n",
    "\n",
    "model.summary()"
   ]
  },
  {
   "cell_type": "code",
   "execution_count": null,
   "metadata": {},
   "outputs": [],
   "source": []
  },
  {
   "cell_type": "code",
   "execution_count": 12,
   "metadata": {},
   "outputs": [],
   "source": [
    "model.compile(loss='categorical_crossentropy', optimizer ='adam', metrics = ['accuracy'])"
   ]
  },
  {
   "cell_type": "code",
   "execution_count": 13,
   "metadata": {},
   "outputs": [],
   "source": [
    "import datetime"
   ]
  },
  {
   "cell_type": "code",
   "execution_count": 14,
   "metadata": {},
   "outputs": [
    {
     "name": "stderr",
     "output_type": "stream",
     "text": [
      "C:\\Users\\SR\\anaconda3\\lib\\site-packages\\ipykernel_launcher.py:7: UserWarning: The `nb_epoch` argument in `fit` has been renamed `epochs`.\n",
      "  import sys\n"
     ]
    },
    {
     "name": "stdout",
     "output_type": "stream",
     "text": [
      "WARNING:tensorflow:From C:\\Users\\SR\\anaconda3\\lib\\site-packages\\keras\\backend\\tensorflow_backend.py:422: The name tf.global_variables is deprecated. Please use tf.compat.v1.global_variables instead.\n",
      "\n",
      "Train on 10225 samples, validate on 5139 samples\n",
      "Epoch 1/10\n",
      " - 12s - loss: 0.2711 - accuracy: 0.9203 - val_loss: 0.0424 - val_accuracy: 0.9870\n",
      "Epoch 2/10\n",
      " - 13s - loss: 0.0681 - accuracy: 0.9782 - val_loss: 0.0268 - val_accuracy: 0.9920\n",
      "Epoch 3/10\n",
      " - 15s - loss: 0.0437 - accuracy: 0.9856 - val_loss: 0.0154 - val_accuracy: 0.9947\n",
      "Epoch 4/10\n",
      " - 14s - loss: 0.0317 - accuracy: 0.9891 - val_loss: 0.0151 - val_accuracy: 0.9947\n",
      "Epoch 5/10\n",
      " - 14s - loss: 0.0248 - accuracy: 0.9916 - val_loss: 0.0144 - val_accuracy: 0.9951\n",
      "Epoch 6/10\n",
      " - 15s - loss: 0.0219 - accuracy: 0.9927 - val_loss: 0.0159 - val_accuracy: 0.9946\n",
      "Epoch 7/10\n",
      " - 15s - loss: 0.0205 - accuracy: 0.9921 - val_loss: 0.0104 - val_accuracy: 0.9961\n",
      "Epoch 8/10\n",
      " - 15s - loss: 0.0159 - accuracy: 0.9942 - val_loss: 0.0112 - val_accuracy: 0.9967\n",
      "Epoch 9/10\n",
      " - 13s - loss: 0.0144 - accuracy: 0.9953 - val_loss: 0.0086 - val_accuracy: 0.9971\n",
      "Epoch 10/10\n",
      " - 14s - loss: 0.0138 - accuracy: 0.9953 - val_loss: 0.0093 - val_accuracy: 0.9969\n",
      "0:02:20.503398\n"
     ]
    }
   ],
   "source": [
    "start = datetime.datetime.now()\n",
    "model.fit(pt_x_train,pt_y_train,\n",
    "          validation_data=(pt_x_test,pt_y_test),\n",
    "          nb_epoch = 10,\n",
    "          shuffle=True,\n",
    "          batch_size=100,\n",
    "          verbose=2)\n",
    "\n",
    "end = datetime.datetime.now()\n",
    "print(end-start)"
   ]
  },
  {
   "cell_type": "code",
   "execution_count": null,
   "metadata": {},
   "outputs": [],
   "source": []
  },
  {
   "cell_type": "code",
   "execution_count": 15,
   "metadata": {},
   "outputs": [
    {
     "data": {
      "text/plain": [
       "[<keras.layers.convolutional.Conv2D at 0x1c3cb9f9508>,\n",
       " <keras.layers.convolutional.Conv2D at 0x1c3cba7c248>,\n",
       " <keras.layers.pooling.MaxPooling2D at 0x1c3cb9f59c8>,\n",
       " <keras.layers.convolutional.Conv2D at 0x1c3cb9c5548>,\n",
       " <keras.layers.core.Flatten at 0x1c3cb8b02c8>,\n",
       " <keras.layers.core.Dropout at 0x1c3cb8b0048>,\n",
       " <keras.layers.core.Dense at 0x1c3cb9cb748>,\n",
       " <keras.layers.core.Activation at 0x1c3cb9fb848>,\n",
       " <keras.layers.core.Dense at 0x1c3cb7d3348>,\n",
       " <keras.layers.core.Activation at 0x1c3cb750308>]"
      ]
     },
     "execution_count": 15,
     "metadata": {},
     "output_type": "execute_result"
    }
   ],
   "source": [
    "model.layers"
   ]
  },
  {
   "cell_type": "code",
   "execution_count": null,
   "metadata": {},
   "outputs": [],
   "source": []
  },
  {
   "cell_type": "code",
   "execution_count": 16,
   "metadata": {},
   "outputs": [
    {
     "name": "stdout",
     "output_type": "stream",
     "text": [
      "False\n",
      "False\n",
      "False\n",
      "False\n",
      "False\n",
      "False\n",
      "True\n",
      "True\n",
      "True\n",
      "True\n"
     ]
    }
   ],
   "source": [
    "for layer in model.layers[:6]:\n",
    "    layer.trainable = False\n",
    "    \n",
    "for layer in model.layers:\n",
    "    print(layer.trainable)"
   ]
  },
  {
   "cell_type": "code",
   "execution_count": null,
   "metadata": {},
   "outputs": [],
   "source": []
  },
  {
   "cell_type": "code",
   "execution_count": 17,
   "metadata": {},
   "outputs": [
    {
     "name": "stdout",
     "output_type": "stream",
     "text": [
      "Model: \"sequential_3\"\n",
      "_________________________________________________________________\n",
      "Layer (type)                 Output Shape              Param #   \n",
      "=================================================================\n",
      "conv2d_3 (Conv2D)            (None, 24, 24, 32)        832       \n",
      "_________________________________________________________________\n",
      "conv2d_4 (Conv2D)            (None, 20, 20, 16)        12816     \n",
      "_________________________________________________________________\n",
      "max_pooling2d_1 (MaxPooling2 (None, 10, 10, 16)        0         \n",
      "_________________________________________________________________\n",
      "conv2d_5 (Conv2D)            (None, 8, 8, 8)           1160      \n",
      "_________________________________________________________________\n",
      "flatten_1 (Flatten)          (None, 512)               0         \n",
      "_________________________________________________________________\n",
      "dropout_1 (Dropout)          (None, 512)               0         \n",
      "_________________________________________________________________\n",
      "dense_3 (Dense)              (None, 128)               65664     \n",
      "_________________________________________________________________\n",
      "activation_3 (Activation)    (None, 128)               0         \n",
      "_________________________________________________________________\n",
      "dense_4 (Dense)              (None, 10)                1290      \n",
      "_________________________________________________________________\n",
      "activation_4 (Activation)    (None, 10)                0         \n",
      "=================================================================\n",
      "Total params: 81,762\n",
      "Trainable params: 66,954\n",
      "Non-trainable params: 14,808\n",
      "_________________________________________________________________\n"
     ]
    }
   ],
   "source": [
    "tl_model = Sequential(model.layers[:6])\n",
    "\n",
    "tl_model.add(Dense(128))\n",
    "tl_model.add(Activation('relu'))\n",
    "\n",
    "tl_model.add(Dense(10))\n",
    "tl_model.add(Activation('softmax'))\n",
    "\n",
    "tl_model.summary()"
   ]
  },
  {
   "cell_type": "code",
   "execution_count": null,
   "metadata": {},
   "outputs": [],
   "source": []
  },
  {
   "cell_type": "code",
   "execution_count": 18,
   "metadata": {},
   "outputs": [],
   "source": [
    "tl_model.compile(loss = \"categorical_crossentropy\",\n",
    "                 optimizer = \"adam\",\n",
    "                 metrics= ['accuracy'])"
   ]
  },
  {
   "cell_type": "code",
   "execution_count": null,
   "metadata": {},
   "outputs": [],
   "source": []
  },
  {
   "cell_type": "code",
   "execution_count": 26,
   "metadata": {
    "scrolled": true
   },
   "outputs": [
    {
     "name": "stderr",
     "output_type": "stream",
     "text": [
      "C:\\Users\\SR\\anaconda3\\lib\\site-packages\\ipykernel_launcher.py:7: UserWarning: The `nb_epoch` argument in `fit` has been renamed `epochs`.\n",
      "  import sys\n"
     ]
    },
    {
     "name": "stdout",
     "output_type": "stream",
     "text": [
      "Train on 9775 samples, validate on 4861 samples\n",
      "Epoch 1/10\n",
      " - 2s - loss: 0.3386 - accuracy: 0.8958 - val_loss: 0.0812 - val_accuracy: 0.9759\n",
      "Epoch 2/10\n",
      " - 3s - loss: 0.1001 - accuracy: 0.9685 - val_loss: 0.0556 - val_accuracy: 0.9831\n",
      "Epoch 3/10\n",
      " - 3s - loss: 0.0748 - accuracy: 0.9758 - val_loss: 0.0504 - val_accuracy: 0.9837\n",
      "Epoch 4/10\n",
      " - 3s - loss: 0.0667 - accuracy: 0.9778 - val_loss: 0.0400 - val_accuracy: 0.9870\n",
      "Epoch 5/10\n",
      " - 3s - loss: 0.0570 - accuracy: 0.9819 - val_loss: 0.0432 - val_accuracy: 0.9864\n",
      "Epoch 6/10\n",
      " - 3s - loss: 0.0588 - accuracy: 0.9810 - val_loss: 0.0367 - val_accuracy: 0.9883\n",
      "Epoch 7/10\n",
      " - 3s - loss: 0.0503 - accuracy: 0.9837 - val_loss: 0.0316 - val_accuracy: 0.9903\n",
      "Epoch 8/10\n",
      " - 3s - loss: 0.0478 - accuracy: 0.9843 - val_loss: 0.0402 - val_accuracy: 0.9885\n",
      "Epoch 9/10\n",
      " - 3s - loss: 0.0423 - accuracy: 0.9859 - val_loss: 0.0322 - val_accuracy: 0.9903\n",
      "Epoch 10/10\n",
      " - 3s - loss: 0.0432 - accuracy: 0.9866 - val_loss: 0.0315 - val_accuracy: 0.9909\n",
      "0:00:27.757516\n"
     ]
    }
   ],
   "source": [
    "start = datetime.datetime.now()\n",
    "tl_model.fit(tl_x_train,tl_y_train,\n",
    "          validation_data=(tl_x_test,tl_y_test),\n",
    "          nb_epoch = 10,\n",
    "          shuffle=True,\n",
    "          batch_size=100,\n",
    "          verbose=2)\n",
    "\n",
    "end = datetime.datetime.now()\n",
    "print(end-start)"
   ]
  },
  {
   "cell_type": "code",
   "execution_count": null,
   "metadata": {},
   "outputs": [],
   "source": []
  },
  {
   "cell_type": "code",
   "execution_count": null,
   "metadata": {},
   "outputs": [],
   "source": []
  },
  {
   "cell_type": "code",
   "execution_count": null,
   "metadata": {},
   "outputs": [],
   "source": []
  },
  {
   "cell_type": "code",
   "execution_count": null,
   "metadata": {},
   "outputs": [],
   "source": []
  },
  {
   "cell_type": "code",
   "execution_count": null,
   "metadata": {},
   "outputs": [],
   "source": []
  },
  {
   "cell_type": "code",
   "execution_count": null,
   "metadata": {},
   "outputs": [],
   "source": []
  },
  {
   "cell_type": "code",
   "execution_count": null,
   "metadata": {},
   "outputs": [],
   "source": []
  },
  {
   "cell_type": "code",
   "execution_count": null,
   "metadata": {},
   "outputs": [],
   "source": []
  },
  {
   "cell_type": "code",
   "execution_count": null,
   "metadata": {},
   "outputs": [],
   "source": []
  },
  {
   "cell_type": "code",
   "execution_count": null,
   "metadata": {},
   "outputs": [],
   "source": []
  },
  {
   "cell_type": "code",
   "execution_count": null,
   "metadata": {},
   "outputs": [],
   "source": []
  },
  {
   "cell_type": "code",
   "execution_count": null,
   "metadata": {},
   "outputs": [],
   "source": []
  },
  {
   "cell_type": "code",
   "execution_count": null,
   "metadata": {},
   "outputs": [],
   "source": []
  },
  {
   "cell_type": "code",
   "execution_count": null,
   "metadata": {},
   "outputs": [],
   "source": []
  },
  {
   "cell_type": "code",
   "execution_count": null,
   "metadata": {},
   "outputs": [],
   "source": []
  },
  {
   "cell_type": "code",
   "execution_count": null,
   "metadata": {},
   "outputs": [],
   "source": []
  },
  {
   "cell_type": "code",
   "execution_count": null,
   "metadata": {},
   "outputs": [],
   "source": []
  },
  {
   "cell_type": "code",
   "execution_count": null,
   "metadata": {},
   "outputs": [],
   "source": []
  },
  {
   "cell_type": "code",
   "execution_count": null,
   "metadata": {},
   "outputs": [],
   "source": []
  },
  {
   "cell_type": "code",
   "execution_count": null,
   "metadata": {},
   "outputs": [],
   "source": []
  }
 ],
 "metadata": {
  "kernelspec": {
   "display_name": "Python 3",
   "language": "python",
   "name": "python3"
  },
  "language_info": {
   "codemirror_mode": {
    "name": "ipython",
    "version": 3
   },
   "file_extension": ".py",
   "mimetype": "text/x-python",
   "name": "python",
   "nbconvert_exporter": "python",
   "pygments_lexer": "ipython3",
   "version": "3.7.6"
  }
 },
 "nbformat": 4,
 "nbformat_minor": 4
}
